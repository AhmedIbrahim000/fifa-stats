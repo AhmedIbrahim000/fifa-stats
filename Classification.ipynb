{
 "cells": [
  {
   "cell_type": "code",
   "execution_count": 5,
   "metadata": {},
   "outputs": [],
   "source": [
    "import pandas as pd\n",
    "from sklearn import linear_model\n",
    "from sklearn import metrics\n",
    "from sklearn import model_selection\n",
    "from sklearn import naive_bayes\n",
    "\n",
    "df_class = pd.read_csv(\"Fifa_stats_cleaning.csv\")"
   ]
  },
  {
   "cell_type": "code",
   "execution_count": 6,
   "metadata": {},
   "outputs": [],
   "source": [
    "df_class['Position'] = df_class['Position'].replace({\n",
    "    'CAM':'5',\n",
    "    'CDM':'5',\n",
    "    'CM':'5',\n",
    "    'CB':'4',\n",
    "    'LB':'3',\n",
    "    'RB':'2',\n",
    "    'CF':'10',\n",
    "    'ST':'9',\n",
    "    'GK':'1',\n",
    "    'LCB':'4',\n",
    "    'LCM':'5',\n",
    "    'LDM':'5',\n",
    "    'LAM':'5',\n",
    "    'LF':'10',\n",
    "    'LM':'5',\n",
    "    'LS':'9',\n",
    "    'LW':'11',\n",
    "    'LWB':'3',\n",
    "    'RAM':'5',\n",
    "    'RCB':'2',\n",
    "    'RCM':'5',\n",
    "    'RDM':'5',\n",
    "    'RF':'10',\n",
    "    'RM':'5',\n",
    "    'RS':'9',\n",
    "    'RW':'11',\n",
    "    'RWB':'2'\n",
    "})"
   ]
  },
  {
   "cell_type": "code",
   "execution_count": 7,
   "metadata": {},
   "outputs": [],
   "source": [
    "X1 = df_class[['Overall', 'Potential', 'Position', 'Skill Moves', 'LongShots', 'ShotPower', 'Finishing', 'Crossing',\n",
    "                'ShortPassing', 'Curve', 'Penalties']]\n",
    "Y1 = df_class['Preferred Foot']\n",
    "\n",
    "x_train, x_test, y_train, y_test = model_selection.train_test_split(X1, Y1, test_size=0.2, random_state=42)"
   ]
  },
  {
   "cell_type": "code",
   "execution_count": 8,
   "metadata": {},
   "outputs": [
    {
     "name": "stderr",
     "output_type": "stream",
     "text": [
      "c:\\Users\\Ahmed\\AppData\\Local\\Programs\\Python\\Python310\\lib\\site-packages\\sklearn\\linear_model\\_logistic.py:458: ConvergenceWarning: lbfgs failed to converge (status=1):\n",
      "STOP: TOTAL NO. of ITERATIONS REACHED LIMIT.\n",
      "\n",
      "Increase the number of iterations (max_iter) or scale the data as shown in:\n",
      "    https://scikit-learn.org/stable/modules/preprocessing.html\n",
      "Please also refer to the documentation for alternative solver options:\n",
      "    https://scikit-learn.org/stable/modules/linear_model.html#logistic-regression\n",
      "  n_iter_i = _check_optimize_result(\n"
     ]
    }
   ],
   "source": [
    "############ Logistic Regression  ###############\n",
    "Log_Reg = linear_model.LogisticRegression()\n",
    "Log_Reg.fit(x_train, y_train)\n",
    "\n",
    "y_pred_1 = Log_Reg.predict(x_test)\n",
    "\n",
    "# SAVING THE PREDECTED VALUES\n",
    "df_pred_log = pd.DataFrame(y_pred_1, columns=[\"PredictedValue\"])\n",
    "df_pred_log.to_csv(\"Logistic Regression.csv\", index=False)"
   ]
  },
  {
   "cell_type": "code",
   "execution_count": 9,
   "metadata": {},
   "outputs": [],
   "source": [
    "############ Naive Bayes ###############\n",
    "NB = naive_bayes.GaussianNB()\n",
    "NB.fit(x_train, y_train)\n",
    "\n",
    "y_pred_2 = NB.predict(x_test)\n",
    "\n",
    "# SAVING THE PREDECTED VALUES\n",
    "df_pred_NB = pd.DataFrame(y_pred_2, columns=[\"PredictedValue\"])\n",
    "df_pred_NB.to_csv(\"Naive Bayes.csv\", index=False)"
   ]
  },
  {
   "cell_type": "code",
   "execution_count": 26,
   "metadata": {},
   "outputs": [
    {
     "name": "stdout",
     "output_type": "stream",
     "text": [
      "Confusion Matrix for Model 1:\n",
      "[[  42  764]\n",
      " [  28 2389]]\n",
      "Confusion Matrix for Model 2:\n",
      "[[ 116  690]\n",
      " [ 168 2249]]\n",
      "Model 1:\n",
      "Accuracy: 0.7542662116040956\n",
      "Precision: 0.6\n",
      "Recall: 0.052109181141439205\n",
      "F1-Score: 0.0958904109589041\n",
      "Model 2:\n",
      "Accuracy: 0.7337883959044369\n",
      "Precision: 0.4084507042253521\n",
      "Recall: 0.14392059553349876\n",
      "F1-Score: 0.2128440366972477\n"
     ]
    }
   ],
   "source": [
    "# Compute confusion matrix for the first model\n",
    "cm_model1 = metrics.confusion_matrix(y_test, y_pred_1, labels=['Left', 'Right'])\n",
    "\n",
    "# Compute confusion matrix for the second model\n",
    "cm_model2 = metrics.confusion_matrix(y_test, y_pred_2, labels=['Left', 'Right'])\n",
    "\n",
    "# Print the confusion matrix for the first model\n",
    "print(\"Confusion Matrix for Model 1:\")\n",
    "print(cm_model1)\n",
    "\n",
    "# Print the confusion matrix for the second model\n",
    "print(\"Confusion Matrix for Model 2:\")\n",
    "print(cm_model2)\n",
    "\n",
    "# Compute performance metrics for the first model\n",
    "accuracy_model1 = metrics.accuracy_score(y_test, y_pred_1)\n",
    "precision_model1 = metrics.precision_score(y_test, y_pred_1, pos_label='Left')\n",
    "recall_model1 = metrics.recall_score(y_test, y_pred_1, pos_label='Left')\n",
    "f1_score_model1 = metrics.f1_score(y_test, y_pred_1, pos_label='Left')\n",
    "\n",
    "# Compute performance metrics for the second model\n",
    "accuracy_model2 = metrics.accuracy_score(y_test, y_pred_2)\n",
    "precision_model2 = metrics.precision_score(y_test, y_pred_2, pos_label='Left')\n",
    "recall_model2 = metrics.recall_score(y_test, y_pred_2, pos_label='Left')\n",
    "f1_score_model2 = metrics.f1_score(y_test, y_pred_2, pos_label='Left')\n",
    "\n",
    "# Compare the performance metrics\n",
    "print(\"Model 1:\")\n",
    "print(\"Accuracy:\", accuracy_model1)\n",
    "print(\"Precision:\", precision_model1)\n",
    "print(\"Recall:\", recall_model1)\n",
    "print(\"F1-Score:\", f1_score_model1)\n",
    "\n",
    "print(\"Model 2:\")\n",
    "print(\"Accuracy:\", accuracy_model2)\n",
    "print(\"Precision:\", precision_model2)\n",
    "print(\"Recall:\", recall_model2)\n",
    "print(\"F1-Score:\", f1_score_model2)"
   ]
  }
 ],
 "metadata": {
  "kernelspec": {
   "display_name": "Python 3",
   "language": "python",
   "name": "python3"
  },
  "language_info": {
   "codemirror_mode": {
    "name": "ipython",
    "version": 3
   },
   "file_extension": ".py",
   "mimetype": "text/x-python",
   "name": "python",
   "nbconvert_exporter": "python",
   "pygments_lexer": "ipython3",
   "version": "3.10.0"
  },
  "orig_nbformat": 4
 },
 "nbformat": 4,
 "nbformat_minor": 2
}
