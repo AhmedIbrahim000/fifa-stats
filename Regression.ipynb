{
 "cells": [
  {
   "cell_type": "code",
   "execution_count": 1,
   "metadata": {},
   "outputs": [],
   "source": [
    "import pandas as pd\n",
    "import numpy as np\n",
    "from sklearn import linear_model\n",
    "from sklearn import metrics\n",
    "from sklearn import model_selection\n",
    "from sklearn.ensemble import RandomForestRegressor\n",
    "from sklearn.preprocessing import MinMaxScaler\n",
    "import math\n",
    "\n",
    "df_reg = pd.read_csv(\"Fifa_stats_cleaning.csv\")\n",
    "\n",
    "df_reg['Preferred Foot'] = df_reg['Preferred Foot'].replace({'Right':'1', 'Left':'2'})\n",
    "\n",
    "df_reg['Position'] = df_reg['Position'].replace({\n",
    "    'CAM':'5',\n",
    "    'CDM':'5',\n",
    "    'CM':'5',\n",
    "    'CB':'4',\n",
    "    'LB':'3',\n",
    "    'RB':'2',\n",
    "    'CF':'10',\n",
    "    'ST':'9',\n",
    "    'GK':'1',\n",
    "    'LCB':'4',\n",
    "    'LCM':'5',\n",
    "    'LDM':'5',\n",
    "    'LAM':'5',\n",
    "    'LF':'10',\n",
    "    'LM':'5',\n",
    "    'LS':'9',\n",
    "    'LW':'11',\n",
    "    'LWB':'3',\n",
    "    'RAM':'5',\n",
    "    'RCB':'2',\n",
    "    'RCM':'5',\n",
    "    'RDM':'5',\n",
    "    'RF':'10',\n",
    "    'RM':'5',\n",
    "    'RS':'9',\n",
    "    'RW':'11',\n",
    "    'RWB':'2'\n",
    "})"
   ]
  },
  {
   "cell_type": "code",
   "execution_count": 2,
   "metadata": {},
   "outputs": [],
   "source": [
    "X1 = df_reg[['Age', 'Overall', 'Potential', 'Preferred Foot', 'Skill Moves', 'Crossing', 'Finishing', 'HeadingAccuracy', 'ShortPassing',\n",
    "       'Volleys', 'Dribbling', 'Curve', 'FKAccuracy', 'LongPassing',\n",
    "       'BallControl', 'Acceleration', 'SprintSpeed', 'Agility', 'Reactions',\n",
    "       'Balance', 'ShotPower', 'Jumping', 'Stamina', 'Strength', 'LongShots',\n",
    "       'Aggression', 'Interceptions', 'Positioning', 'Vision', 'Penalties',\n",
    "       'Composure', 'Marking', 'StandingTackle', 'SlidingTackle', 'GKDiving',\n",
    "       'GKHandling', 'GKKicking', 'GKPositioning', 'GKReflexes', 'Height_m']]\n",
    "\n",
    "Y1 = df_reg['Position']\n",
    "\n",
    "x_train, x_test, y_train, y_test = model_selection.train_test_split(X1, Y1, test_size=0.2, random_state=42)"
   ]
  },
  {
   "cell_type": "code",
   "execution_count": 3,
   "metadata": {},
   "outputs": [
    {
     "name": "stdout",
     "output_type": "stream",
     "text": [
      "Mean Squared Error: 2.319578032888613\n",
      "R-squared: 0.59897110882118\n"
     ]
    }
   ],
   "source": [
    "############ Linear Regression ###############\n",
    "Lin_Reg = linear_model.LinearRegression()\n",
    "Lin_Reg.fit(x_train, y_train)\n",
    "\n",
    "y_pred_1 = Lin_Reg.predict(x_test)\n",
    "y_pred_1_rounded = np.where(y_pred_1 % 1 > 0.5, np.ceil(y_pred_1), np.floor(y_pred_1)).astype(int)\n",
    "\n",
    "print(\"Mean Squared Error:\", metrics.mean_squared_error(y_test, y_pred_1_rounded))\n",
    "print(\"R-squared:\", metrics.r2_score(y_test, y_pred_1_rounded))\n",
    "\n",
    "# SAVING THE PREDECTED VALUES\n",
    "df_pred_lin = pd.DataFrame(y_pred_1_rounded, columns=[\"PredictedValue\"])\n",
    "df_pred_lin.to_csv(\"Linear Regression.csv\", index=False)"
   ]
  },
  {
   "cell_type": "code",
   "execution_count": 26,
   "metadata": {},
   "outputs": [
    {
     "name": "stdout",
     "output_type": "stream",
     "text": [
      "MSE= 2.2556624263108906\n",
      "R2= 0.6100213966198473\n"
     ]
    }
   ],
   "source": [
    "############ Random Forest Regression ###############\n",
    "#scaler = StandardScaler()\n",
    "scaler = MinMaxScaler()\n",
    "x_train = scaler.fit_transform(x_train)\n",
    "x_test = scaler.transform(x_test)\n",
    "\n",
    "RF_Reg = RandomForestRegressor(n_estimators=10, random_state = 0)\n",
    "RF_Reg.fit(x_train, y_train)\n",
    "\n",
    "y_pred_2 = RF_Reg.predict((x_test))\n",
    "y_pred_2_rounded = np.where(y_pred_2 % 1 > 0.5, np.ceil(y_pred_2), np.floor(y_pred_2)).astype(int)\n",
    "\n",
    "print('MSE=', metrics.mean_squared_error(y_test, y_pred_2_rounded))\n",
    "print('R2=', metrics.r2_score(y_test, y_pred_2_rounded))\n",
    "\n",
    "# SAVING THE PREDECTED VALUES\n",
    "df_pred_RF = pd.DataFrame(y_pred_2_rounded, columns=[\"PredictedValue\"])\n",
    "df_pred_RF.to_csv(\"Random Forest Regression.csv\", index=False)"
   ]
  }
 ],
 "metadata": {
  "kernelspec": {
   "display_name": "Python 3",
   "language": "python",
   "name": "python3"
  },
  "language_info": {
   "codemirror_mode": {
    "name": "ipython",
    "version": 3
   },
   "file_extension": ".py",
   "mimetype": "text/x-python",
   "name": "python",
   "nbconvert_exporter": "python",
   "pygments_lexer": "ipython3",
   "version": "3.10.0"
  },
  "orig_nbformat": 4
 },
 "nbformat": 4,
 "nbformat_minor": 2
}
